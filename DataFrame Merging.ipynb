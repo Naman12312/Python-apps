{
 "cells": [
  {
   "cell_type": "code",
   "execution_count": 24,
   "id": "geographic-updating",
   "metadata": {
    "ExecuteTime": {
     "end_time": "2023-06-02T12:00:11.487776100Z",
     "start_time": "2023-06-02T12:00:11.468615Z"
    }
   },
   "outputs": [],
   "source": [
    "import pandas as pd"
   ]
  },
  {
   "cell_type": "code",
   "execution_count": 25,
   "id": "portable-vocabulary",
   "metadata": {
    "ExecuteTime": {
     "end_time": "2023-06-02T12:00:11.577255400Z",
     "start_time": "2023-06-02T12:00:11.474615400Z"
    }
   },
   "outputs": [],
   "source": [
    "df1 = pd.DataFrame([[1,2,3],[2,7,3],[6,7,8],[7,7,89]], columns = [\"A\",\"B\",\"C\"])\n"
   ]
  },
  {
   "cell_type": "code",
   "execution_count": 26,
   "id": "confidential-topic",
   "metadata": {
    "ExecuteTime": {
     "end_time": "2023-06-02T12:00:11.579238800Z",
     "start_time": "2023-06-02T12:00:11.487776100Z"
    }
   },
   "outputs": [
    {
     "data": {
      "text/plain": "   A  B   C\n0  1  2   3\n1  2  7   3\n2  6  7   8\n3  7  7  89",
      "text/html": "<div>\n<style scoped>\n    .dataframe tbody tr th:only-of-type {\n        vertical-align: middle;\n    }\n\n    .dataframe tbody tr th {\n        vertical-align: top;\n    }\n\n    .dataframe thead th {\n        text-align: right;\n    }\n</style>\n<table border=\"1\" class=\"dataframe\">\n  <thead>\n    <tr style=\"text-align: right;\">\n      <th></th>\n      <th>A</th>\n      <th>B</th>\n      <th>C</th>\n    </tr>\n  </thead>\n  <tbody>\n    <tr>\n      <th>0</th>\n      <td>1</td>\n      <td>2</td>\n      <td>3</td>\n    </tr>\n    <tr>\n      <th>1</th>\n      <td>2</td>\n      <td>7</td>\n      <td>3</td>\n    </tr>\n    <tr>\n      <th>2</th>\n      <td>6</td>\n      <td>7</td>\n      <td>8</td>\n    </tr>\n    <tr>\n      <th>3</th>\n      <td>7</td>\n      <td>7</td>\n      <td>89</td>\n    </tr>\n  </tbody>\n</table>\n</div>"
     },
     "execution_count": 26,
     "metadata": {},
     "output_type": "execute_result"
    }
   ],
   "source": [
    "df1"
   ]
  },
  {
   "cell_type": "code",
   "execution_count": 27,
   "id": "agreed-resource",
   "metadata": {
    "ExecuteTime": {
     "end_time": "2023-06-02T12:00:11.579238800Z",
     "start_time": "2023-06-02T12:00:11.507289600Z"
    }
   },
   "outputs": [],
   "source": [
    "df2 = pd.DataFrame([[13,2,36],[26,7,73],[623,7,88],[579,7,989]], columns = [\"X\",\"Y\",\"Z\"]) #pd takes it as {x:[0, 0, 0, 0], y:[0, 0, 0, 0], z:[0, 0,0,0]}"
   ]
  },
  {
   "cell_type": "code",
   "execution_count": 28,
   "id": "disabled-portable",
   "metadata": {
    "ExecuteTime": {
     "end_time": "2023-06-02T12:00:11.609468300Z",
     "start_time": "2023-06-02T12:00:11.571239500Z"
    }
   },
   "outputs": [
    {
     "data": {
      "text/plain": "     X  Y    Z\n0   13  2   36\n1   26  7   73\n2  623  7   88\n3  579  7  989",
      "text/html": "<div>\n<style scoped>\n    .dataframe tbody tr th:only-of-type {\n        vertical-align: middle;\n    }\n\n    .dataframe tbody tr th {\n        vertical-align: top;\n    }\n\n    .dataframe thead th {\n        text-align: right;\n    }\n</style>\n<table border=\"1\" class=\"dataframe\">\n  <thead>\n    <tr style=\"text-align: right;\">\n      <th></th>\n      <th>X</th>\n      <th>Y</th>\n      <th>Z</th>\n    </tr>\n  </thead>\n  <tbody>\n    <tr>\n      <th>0</th>\n      <td>13</td>\n      <td>2</td>\n      <td>36</td>\n    </tr>\n    <tr>\n      <th>1</th>\n      <td>26</td>\n      <td>7</td>\n      <td>73</td>\n    </tr>\n    <tr>\n      <th>2</th>\n      <td>623</td>\n      <td>7</td>\n      <td>88</td>\n    </tr>\n    <tr>\n      <th>3</th>\n      <td>579</td>\n      <td>7</td>\n      <td>989</td>\n    </tr>\n  </tbody>\n</table>\n</div>"
     },
     "execution_count": 28,
     "metadata": {},
     "output_type": "execute_result"
    }
   ],
   "source": [
    "df2"
   ]
  },
  {
   "cell_type": "code",
   "execution_count": 30,
   "id": "grave-block",
   "metadata": {
    "ExecuteTime": {
     "end_time": "2023-06-02T12:00:51.579555500Z",
     "start_time": "2023-06-02T12:00:51.565452200Z"
    }
   },
   "outputs": [],
   "source": [
    "df3 = pd.merge(df1, df2, left_on=\"B\", right_on=\"Y\")"
   ]
  },
  {
   "cell_type": "code",
   "execution_count": 31,
   "id": "turkish-angel",
   "metadata": {
    "ExecuteTime": {
     "end_time": "2023-06-02T12:00:52.393619600Z",
     "start_time": "2023-06-02T12:00:52.385726Z"
    }
   },
   "outputs": [
    {
     "data": {
      "text/plain": "   A  B   C    X  Y    Z\n0  1  2   3   13  2   36\n1  2  7   3   26  7   73\n2  2  7   3  623  7   88\n3  2  7   3  579  7  989\n4  6  7   8   26  7   73\n5  6  7   8  623  7   88\n6  6  7   8  579  7  989\n7  7  7  89   26  7   73\n8  7  7  89  623  7   88\n9  7  7  89  579  7  989",
      "text/html": "<div>\n<style scoped>\n    .dataframe tbody tr th:only-of-type {\n        vertical-align: middle;\n    }\n\n    .dataframe tbody tr th {\n        vertical-align: top;\n    }\n\n    .dataframe thead th {\n        text-align: right;\n    }\n</style>\n<table border=\"1\" class=\"dataframe\">\n  <thead>\n    <tr style=\"text-align: right;\">\n      <th></th>\n      <th>A</th>\n      <th>B</th>\n      <th>C</th>\n      <th>X</th>\n      <th>Y</th>\n      <th>Z</th>\n    </tr>\n  </thead>\n  <tbody>\n    <tr>\n      <th>0</th>\n      <td>1</td>\n      <td>2</td>\n      <td>3</td>\n      <td>13</td>\n      <td>2</td>\n      <td>36</td>\n    </tr>\n    <tr>\n      <th>1</th>\n      <td>2</td>\n      <td>7</td>\n      <td>3</td>\n      <td>26</td>\n      <td>7</td>\n      <td>73</td>\n    </tr>\n    <tr>\n      <th>2</th>\n      <td>2</td>\n      <td>7</td>\n      <td>3</td>\n      <td>623</td>\n      <td>7</td>\n      <td>88</td>\n    </tr>\n    <tr>\n      <th>3</th>\n      <td>2</td>\n      <td>7</td>\n      <td>3</td>\n      <td>579</td>\n      <td>7</td>\n      <td>989</td>\n    </tr>\n    <tr>\n      <th>4</th>\n      <td>6</td>\n      <td>7</td>\n      <td>8</td>\n      <td>26</td>\n      <td>7</td>\n      <td>73</td>\n    </tr>\n    <tr>\n      <th>5</th>\n      <td>6</td>\n      <td>7</td>\n      <td>8</td>\n      <td>623</td>\n      <td>7</td>\n      <td>88</td>\n    </tr>\n    <tr>\n      <th>6</th>\n      <td>6</td>\n      <td>7</td>\n      <td>8</td>\n      <td>579</td>\n      <td>7</td>\n      <td>989</td>\n    </tr>\n    <tr>\n      <th>7</th>\n      <td>7</td>\n      <td>7</td>\n      <td>89</td>\n      <td>26</td>\n      <td>7</td>\n      <td>73</td>\n    </tr>\n    <tr>\n      <th>8</th>\n      <td>7</td>\n      <td>7</td>\n      <td>89</td>\n      <td>623</td>\n      <td>7</td>\n      <td>88</td>\n    </tr>\n    <tr>\n      <th>9</th>\n      <td>7</td>\n      <td>7</td>\n      <td>89</td>\n      <td>579</td>\n      <td>7</td>\n      <td>989</td>\n    </tr>\n  </tbody>\n</table>\n</div>"
     },
     "execution_count": 31,
     "metadata": {},
     "output_type": "execute_result"
    }
   ],
   "source": [
    "df3"
   ]
  },
  {
   "cell_type": "code",
   "execution_count": null,
   "id": "found-cradle",
   "metadata": {
    "ExecuteTime": {
     "start_time": "2023-06-02T12:00:11.697280100Z"
    }
   },
   "outputs": [],
   "source": []
  }
 ],
 "metadata": {
  "kernelspec": {
   "display_name": "Python 3",
   "language": "python",
   "name": "python3"
  },
  "language_info": {
   "codemirror_mode": {
    "name": "ipython",
    "version": 3
   },
   "file_extension": ".py",
   "mimetype": "text/x-python",
   "name": "python",
   "nbconvert_exporter": "python",
   "pygments_lexer": "ipython3",
   "version": "3.9.2"
  }
 },
 "nbformat": 4,
 "nbformat_minor": 5
}

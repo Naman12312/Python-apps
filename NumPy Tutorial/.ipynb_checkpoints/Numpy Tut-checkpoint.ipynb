{
 "cells": [
  {
   "cell_type": "code",
   "execution_count": 1,
   "id": "ac339f58",
   "metadata": {},
   "outputs": [],
   "source": [
    "import numpy as np"
   ]
  },
  {
   "cell_type": "code",
   "execution_count": null,
   "id": "38f00085",
   "metadata": {},
   "outputs": [],
   "source": [
    "arr = np.linspace(1,100000,100000)"
   ]
  },
  {
   "cell_type": "code",
   "execution_count": null,
   "id": "a6e5feb0",
   "metadata": {},
   "outputs": [],
   "source": [
    "arr\n",
    "\n",
    "arr2 = np.array([])"
   ]
  },
  {
   "cell_type": "code",
   "execution_count": null,
   "id": "5cf44a44",
   "metadata": {},
   "outputs": [],
   "source": []
  },
  {
   "cell_type": "code",
   "execution_count": null,
   "id": "07d78833",
   "metadata": {},
   "outputs": [],
   "source": [
    "arr3 = np.array([[1,2,4,5], \n",
    "                 [1,23,4,5]])"
   ]
  },
  {
   "cell_type": "code",
   "execution_count": null,
   "id": "948e53bb",
   "metadata": {},
   "outputs": [],
   "source": [
    "arr3.shape\n"
   ]
  },
  {
   "cell_type": "code",
   "execution_count": null,
   "id": "9f27e2d1",
   "metadata": {},
   "outputs": [],
   "source": [
    "arr3.T"
   ]
  },
  {
   "cell_type": "code",
   "execution_count": null,
   "id": "f08245e5",
   "metadata": {},
   "outputs": [],
   "source": [
    "ar = np.array([[1,2,3],\n",
    "              [4,5,6],\n",
    "              [7,1,0]])"
   ]
  },
  {
   "cell_type": "code",
   "execution_count": null,
   "id": "c5a5fedb",
   "metadata": {},
   "outputs": [],
   "source": [
    "ar[1,2]"
   ]
  },
  {
   "cell_type": "code",
   "execution_count": null,
   "id": "eb278fff",
   "metadata": {},
   "outputs": [],
   "source": [
    "ar"
   ]
  },
  {
   "cell_type": "code",
   "execution_count": null,
   "id": "f34a95da",
   "metadata": {},
   "outputs": [],
   "source": [
    "ar.argmax()"
   ]
  },
  {
   "cell_type": "code",
   "execution_count": null,
   "id": "087f8c0b",
   "metadata": {},
   "outputs": [],
   "source": [
    "np.where(ar)"
   ]
  },
  {
   "cell_type": "code",
   "execution_count": null,
   "id": "46b72d4e",
   "metadata": {},
   "outputs": [],
   "source": [
    "np.where(ar\n",
    "        )"
   ]
  },
  {
   "cell_type": "code",
   "execution_count": null,
   "id": "d2e7d4f7",
   "metadata": {},
   "outputs": [],
   "source": [
    "ar[2,2] = 1"
   ]
  },
  {
   "cell_type": "code",
   "execution_count": null,
   "id": "2003ecfa",
   "metadata": {},
   "outputs": [],
   "source": [
    "ar.flat"
   ]
  },
  {
   "cell_type": "code",
   "execution_count": null,
   "id": "9328bbdc",
   "metadata": {},
   "outputs": [],
   "source": [
    "for i in ar.flat:\n",
    "    print(i)"
   ]
  },
  {
   "cell_type": "code",
   "execution_count": null,
   "id": "a8a2c92f",
   "metadata": {},
   "outputs": [],
   "source": [
    "ar = ar.reshape(ar.size)\n",
    "          "
   ]
  },
  {
   "cell_type": "code",
   "execution_count": null,
   "id": "b223af49",
   "metadata": {},
   "outputs": [],
   "source": [
    "ar.ravel()"
   ]
  },
  {
   "cell_type": "code",
   "execution_count": null,
   "id": "810d0877",
   "metadata": {},
   "outputs": [],
   "source": [
    "ar2 = ar[2:6]"
   ]
  },
  {
   "cell_type": "code",
   "execution_count": null,
   "id": "7e7c61a8",
   "metadata": {},
   "outputs": [],
   "source": [
    "ar2"
   ]
  },
  {
   "cell_type": "code",
   "execution_count": null,
   "id": "3281bf0e",
   "metadata": {},
   "outputs": [],
   "source": [
    "ar2[0] = 5 # changing an array created from part of an array changes original array."
   ]
  },
  {
   "cell_type": "code",
   "execution_count": null,
   "id": "6e2388d0",
   "metadata": {},
   "outputs": [],
   "source": [
    "ar #"
   ]
  },
  {
   "cell_type": "code",
   "execution_count": null,
   "id": "a75bb6db",
   "metadata": {},
   "outputs": [],
   "source": [
    "ar3 = ar.copy() # Use np.copy(array_name) to do a deep copy if you don't want to change the original array."
   ]
  },
  {
   "cell_type": "code",
   "execution_count": null,
   "id": "2c1116fa",
   "metadata": {},
   "outputs": [],
   "source": [
    "ar3"
   ]
  },
  {
   "cell_type": "code",
   "execution_count": null,
   "id": "bfb437fb",
   "metadata": {},
   "outputs": [],
   "source": [
    "ar3[0] = 9"
   ]
  },
  {
   "cell_type": "code",
   "execution_count": null,
   "id": "ad8ace86",
   "metadata": {},
   "outputs": [],
   "source": [
    "ar"
   ]
  },
  {
   "cell_type": "code",
   "execution_count": null,
   "id": "07a27a43",
   "metadata": {},
   "outputs": [],
   "source": [
    "ar3"
   ]
  },
  {
   "cell_type": "code",
   "execution_count": null,
   "id": "e198f852",
   "metadata": {},
   "outputs": [],
   "source": [
    "myarr = np.arange(0,1000000)"
   ]
  },
  {
   "cell_type": "code",
   "execution_count": null,
   "id": "fa5aeae3",
   "metadata": {},
   "outputs": [],
   "source": [
    "%timeit\n",
    "for i in np.arange(0,1000000).flat:\n",
    "    myarr = np.append(myarr, np.array([i]))\n",
    "    "
   ]
  },
  {
   "cell_type": "code",
   "execution_count": null,
   "id": "29f99414",
   "metadata": {},
   "outputs": [],
   "source": [
    "myarr = np.arange(0,1000000)**2"
   ]
  },
  {
   "cell_type": "code",
   "execution_count": null,
   "id": "4d565f54",
   "metadata": {},
   "outputs": [],
   "source": [
    "myarr3 = np.arange(0,1000000)**2"
   ]
  },
  {
   "cell_type": "code",
   "execution_count": null,
   "id": "e3c1647c",
   "metadata": {},
   "outputs": [],
   "source": []
  }
 ],
 "metadata": {
  "kernelspec": {
   "display_name": "Python 3 (ipykernel)",
   "language": "python",
   "name": "python3"
  },
  "language_info": {
   "codemirror_mode": {
    "name": "ipython",
    "version": 3
   },
   "file_extension": ".py",
   "mimetype": "text/x-python",
   "name": "python",
   "nbconvert_exporter": "python",
   "pygments_lexer": "ipython3",
   "version": "3.11.4"
  }
 },
 "nbformat": 4,
 "nbformat_minor": 5
}

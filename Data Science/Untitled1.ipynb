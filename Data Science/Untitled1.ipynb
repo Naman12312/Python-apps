{
 "cells": [
  {
   "cell_type": "code",
   "execution_count": 28,
   "id": "voluntary-level",
   "metadata": {},
   "outputs": [],
   "source": [
    "import numpy as np # <-- Do this"
   ]
  },
  {
   "cell_type": "code",
   "execution_count": null,
   "id": "divine-twenty",
   "metadata": {},
   "outputs": [],
   "source": [
    "#from numpy import * <-- Don't do this"
   ]
  },
  {
   "cell_type": "code",
   "execution_count": 5,
   "id": "protective-poverty",
   "metadata": {},
   "outputs": [],
   "source": [
    "arr = np.arange(1000000)"
   ]
  },
  {
   "cell_type": "code",
   "execution_count": 6,
   "id": "prostate-linux",
   "metadata": {},
   "outputs": [],
   "source": [
    "pythlist = list(range(1000000))"
   ]
  },
  {
   "cell_type": "code",
   "execution_count": 12,
   "id": "prostate-drive",
   "metadata": {},
   "outputs": [
    {
     "name": "stdout",
     "output_type": "stream",
     "text": [
      "Wall time: 9.51 s\n"
     ]
    }
   ],
   "source": [
    "%time for i in range(10): [item*3 for item in pythlist]"
   ]
  },
  {
   "cell_type": "code",
   "execution_count": 13,
   "id": "closed-capital",
   "metadata": {},
   "outputs": [
    {
     "name": "stdout",
     "output_type": "stream",
     "text": [
      "Wall time: 239 ms\n"
     ]
    }
   ],
   "source": [
    "%time for i in range(10): arr*3"
   ]
  },
  {
   "cell_type": "code",
   "execution_count": 27,
   "id": "spiritual-invasion",
   "metadata": {},
   "outputs": [
    {
     "data": {
      "text/plain": [
       "array([3455,  544,    6,   45,    5,    6,    5,    6,    7,   65,    6])"
      ]
     },
     "execution_count": 27,
     "metadata": {},
     "output_type": "execute_result"
    }
   ],
   "source": [
    "np.array([3455,544,6,45,5,6,5,6,7,65,6])"
   ]
  },
  {
   "cell_type": "code",
   "execution_count": null,
   "id": "sporting-hometown",
   "metadata": {},
   "outputs": [],
   "source": []
  }
 ],
 "metadata": {
  "kernelspec": {
   "display_name": "Python 3",
   "language": "python",
   "name": "python3"
  },
  "language_info": {
   "codemirror_mode": {
    "name": "ipython",
    "version": 3
   },
   "file_extension": ".py",
   "mimetype": "text/x-python",
   "name": "python",
   "nbconvert_exporter": "python",
   "pygments_lexer": "ipython3",
   "version": "3.9.1"
  }
 },
 "nbformat": 4,
 "nbformat_minor": 5
}

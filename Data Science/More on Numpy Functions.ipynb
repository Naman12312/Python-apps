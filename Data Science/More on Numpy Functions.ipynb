{
 "cells": [
  {
   "cell_type": "code",
   "execution_count": 1,
   "id": "04b6f4c6-f319-409e-8c65-eaa2884bcd27",
   "metadata": {},
   "outputs": [],
   "source": [
    "import numpy as np\n"
   ]
  },
  {
   "cell_type": "code",
   "execution_count": 2,
   "id": "884a6bde-a3c0-4512-b219-60ed1fbb4082",
   "metadata": {},
   "outputs": [],
   "source": [
    "a= np.array([[3,23,4],\n",
    "             [2,35,7]])"
   ]
  },
  {
   "cell_type": "code",
   "execution_count": 3,
   "id": "4c7bf345-7a6b-4a45-b512-68abdcc6eef7",
   "metadata": {},
   "outputs": [
    {
     "data": {
      "text/plain": [
       "array([ 5, 58, 11])"
      ]
     },
     "execution_count": 3,
     "metadata": {},
     "output_type": "execute_result"
    }
   ],
   "source": [
    "a.sum(axis=0)"
   ]
  },
  {
   "cell_type": "code",
   "execution_count": 4,
   "id": "336a074a-46e9-430a-9780-e1717eff26ae",
   "metadata": {},
   "outputs": [],
   "source": [
    "b= np.array([[2,3,5],\n",
    "           [4,7,8]])"
   ]
  },
  {
   "cell_type": "code",
   "execution_count": 5,
   "id": "acae51d5-4aee-48d0-bf90-e7811bc7bd23",
   "metadata": {},
   "outputs": [
    {
     "data": {
      "text/plain": [
       "array([[ 95, 205],\n",
       "       [144, 309]])"
      ]
     },
     "execution_count": 5,
     "metadata": {},
     "output_type": "execute_result"
    }
   ],
   "source": [
    "np.dot(a,b.transpose())"
   ]
  },
  {
   "cell_type": "code",
   "execution_count": 6,
   "id": "7a74c124-bb6e-407f-9946-e27f2d534363",
   "metadata": {},
   "outputs": [
    {
     "data": {
      "text/plain": [
       "600"
      ]
     },
     "execution_count": 6,
     "metadata": {},
     "output_type": "execute_result"
    }
   ],
   "source": [
    "len(dir(np))"
   ]
  },
  {
   "cell_type": "code",
   "execution_count": 7,
   "id": "db72b35c-851c-45d2-97ff-8c82df2c90c4",
   "metadata": {},
   "outputs": [
    {
     "data": {
      "text/plain": [
       "array([[ 103,   -7,  -37],\n",
       "       [ 231,   12, -126]])"
      ]
     },
     "execution_count": 7,
     "metadata": {},
     "output_type": "execute_result"
    }
   ],
   "source": [
    "np.cross(a,b)"
   ]
  },
  {
   "cell_type": "code",
   "execution_count": 14,
   "id": "405bbf9e-392c-4ea2-be31-1bb2fb7d680e",
   "metadata": {},
   "outputs": [
    {
     "name": "stdout",
     "output_type": "stream",
     "text": [
      "2.27 µs ± 20.6 ns per loop (mean ± std. dev. of 7 runs, 100,000 loops each)\n"
     ]
    }
   ],
   "source": [
    "%%timeit\n",
    "np.sort(a, axis=0, kind=\"mergesort\")"
   ]
  },
  {
   "cell_type": "code",
   "execution_count": null,
   "id": "122f1dea-b8f7-44c4-8edd-f794bf246d17",
   "metadata": {},
   "outputs": [],
   "source": []
  }
 ],
 "metadata": {
  "kernelspec": {
   "display_name": "Python 3 (ipykernel)",
   "language": "python",
   "name": "python3"
  },
  "language_info": {
   "codemirror_mode": {
    "name": "ipython",
    "version": 3
   },
   "file_extension": ".py",
   "mimetype": "text/x-python",
   "name": "python",
   "nbconvert_exporter": "python",
   "pygments_lexer": "ipython3",
   "version": "3.8.10"
  }
 },
 "nbformat": 4,
 "nbformat_minor": 5
}

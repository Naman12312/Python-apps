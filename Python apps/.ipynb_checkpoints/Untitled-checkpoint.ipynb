{
 "cells": [
  {
   "cell_type": "code",
   "execution_count": null,
   "id": "pressed-attitude",
   "metadata": {},
   "outputs": [],
   "source": [
    "main"
   ]
  },
  {
   "cell_type": "code",
   "execution_count": null,
   "id": "competitive-binding",
   "metadata": {},
   "outputs": [],
   "source": [
    "if __name__ == \"__main__\":\n",
    "    print(\"Hello, World!\")"
   ]
  },
  {
   "cell_type": "code",
   "execution_count": null,
   "id": "instant-aerospace",
   "metadata": {},
   "outputs": [],
   "source": [
    "Main.py"
   ]
  },
  {
   "cell_type": "code",
   "execution_count": null,
   "id": "brief-lingerie",
   "metadata": {},
   "outputs": [],
   "source": [
    "def main(n):\n",
    "    return n\n"
   ]
  },
  {
   "cell_type": "code",
   "execution_count": null,
   "id": "average-balloon",
   "metadata": {},
   "outputs": [],
   "source": [
    "main(2)"
   ]
  },
  {
   "cell_type": "code",
   "execution_count": null,
   "id": "seasonal-client",
   "metadata": {},
   "outputs": [],
   "source": [
    "print(\"Hello, World!\")                    "
   ]
  },
  {
   "cell_type": "code",
   "execution_count": null,
   "id": "polar-drawing",
   "metadata": {},
   "outputs": [],
   "source": [
    "import csv\n",
    "print(csv.excel())"
   ]
  },
  {
   "cell_type": "code",
   "execution_count": 1,
   "id": "single-acceptance",
   "metadata": {},
   "outputs": [
    {
     "name": "stdin",
     "output_type": "stream",
     "text": [
      "Enter a number:\n",
      " 9\n"
     ]
    },
    {
     "name": "stdout",
     "output_type": "stream",
     "text": [
      "The sqaure root of 9.0 is 3.0\n"
     ]
    }
   ],
   "source": [
    "a = float(input(\"Enter a number:\\n\"))\n",
    "import numpy\n",
    "b = numpy.sqrt(a)\n",
    "print(f\"The sqaure root of {a} is {b}\")"
   ]
  },
  {
   "cell_type": "code",
   "execution_count": null,
   "id": "intelligent-peoples",
   "metadata": {},
   "outputs": [],
   "source": []
  }
 ],
 "metadata": {
  "kernelspec": {
   "display_name": "Python 3",
   "language": "python",
   "name": "python3"
  },
  "language_info": {
   "codemirror_mode": {
    "name": "ipython",
    "version": 3
   },
   "file_extension": ".py",
   "mimetype": "text/x-python",
   "name": "python",
   "nbconvert_exporter": "python",
   "pygments_lexer": "ipython3",
   "version": "3.9.1"
  }
 },
 "nbformat": 4,
 "nbformat_minor": 5
}

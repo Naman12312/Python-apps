{
 "cells": [
  {
   "cell_type": "code",
   "execution_count": 5,
   "id": "6f1acf01-8d05-4a8e-a3ea-e338c9336202",
   "metadata": {},
   "outputs": [
    {
     "name": "stdout",
     "output_type": "stream",
     "text": [
      "[[[149. 108.  78.]\n",
      "  [156. 111.  80.]\n",
      "  [161. 108.  76.]\n",
      "  ...\n",
      "  [211. 154. 134.]\n",
      "  [211. 154. 134.]\n",
      "  [211. 154. 134.]]\n",
      "\n",
      " [[158. 114.  85.]\n",
      "  [154. 107.  77.]\n",
      "  [156. 103.  71.]\n",
      "  ...\n",
      "  [211. 154. 134.]\n",
      "  [211. 154. 134.]\n",
      "  [211. 154. 134.]]\n",
      "\n",
      " [[165. 116.  86.]\n",
      "  [159. 108.  77.]\n",
      "  [156. 103.  71.]\n",
      "  ...\n",
      "  [210. 153. 133.]\n",
      "  [210. 153. 133.]\n",
      "  [210. 153. 133.]]\n",
      "\n",
      " ...\n",
      "\n",
      " [[178.  82.  42.]\n",
      "  [178.  82.  42.]\n",
      "  [178.  82.  42.]\n",
      "  ...\n",
      "  [173.  82.  53.]\n",
      "  [173.  82.  53.]\n",
      "  [173.  82.  53.]]\n",
      "\n",
      " [[178.  82.  42.]\n",
      "  [178.  82.  42.]\n",
      "  [178.  82.  42.]\n",
      "  ...\n",
      "  [172.  81.  52.]\n",
      "  [172.  81.  52.]\n",
      "  [172.  81.  52.]]\n",
      "\n",
      " [[178.  82.  42.]\n",
      "  [178.  82.  42.]\n",
      "  [178.  82.  42.]\n",
      "  ...\n",
      "  [171.  80.  51.]\n",
      "  [171.  80.  51.]\n",
      "  [171.  80.  51.]]]\n"
     ]
    },
    {
     "data": {
      "text/plain": [
       "-1"
      ]
     },
     "execution_count": 5,
     "metadata": {},
     "output_type": "execute_result"
    }
   ],
   "source": [
    "from PIL import Image, ImageGrab\n",
    "import pickle\n",
    "import time\n",
    "import matplotlib.pyplot as plt\n",
    "import matplotlib.image as mpimage\n",
    "import cv2\n",
    "time.sleep(3)\n",
    "# ituyiguygytgyf\n",
    "import numpy as np\n",
    "from numpy import asarray\n",
    "a =Image.open(\"C:\\\\Users\\\\pinki\\\\Downloads\\\\GoldArmGang.jpg\")\n",
    "# grey = 0\n",
    "array1 = asarray(a, dtype=\"float64\")\n",
    "# r = a[:,:,0]\n",
    "# g = a[:,:,1]\n",
    "print(array1)\n",
    "# b = a[:,:,2]\n",
    "# a3  = open(\"a.txt\", 'w')\n",
    "# a3.write(str(array1))  \n",
    "# a3.close()\n",
    "# a3 = open(\"a.txt\", \"r\")  \n",
    "# greyscale = (r+g+b)/3\n",
    "\n",
    "# print(greyscale)\n",
    "# plt.imshow(greyscale, cmap='gray')\n",
    "# plt.show()\n",
    "# print(r)\n",
    "def op(img):\n",
    "    grey = np.zeros(img.shape)\n",
    "    r = img[:,:,0]\n",
    "    g = img[:,:,1]\n",
    "    b = img[:,:,2]\n",
    "    r = r*0.299\n",
    "    g = g*0.59\n",
    "    b = b*0.11\n",
    "    # gray = []\n",
    "    avg = (r+g+b)\n",
    "    for i in range(3):\n",
    "        grey[:,:,i] = avg\n",
    "    return grey\n",
    "\n",
    "grey2 = op(array1)\n",
    "cv2.imwrite(\"a1.jpg\", grey2)\n",
    "img = cv2.imread(\"a1.jpg\")\n",
    "cv2.imshow(\"image\", img)\n",
    "cv2.waitKey(0)\n",
    "# cv2.waitKey(0)\n",
    "# greyscale = np.array(gray)\n",
    "# print(greyscale)\n",
    "\n",
    "# a = np.array([array1[0,0,0:1],\n",
    "# array1[0,1,0:3],\n",
    "# array1[0,2,0:3],\n",
    "# array1[1,0,0:3],\n",
    "# array1[1,1,0:3],\n",
    "# array1[1,2,0:3]])\n",
    "# print(a)\n",
    "\n",
    "# print(r)\n",
    "# print(g)\n",
    "# print(b)\n",
    "# image = \n",
    "\n",
    "# # a.show()\n",
    "# print(g)\n",
    "#     greyscale = np.array((r+g+b)/3)\n",
    "#     print(greyscale)\n",
    "# array3 = np.array()\n"
   ]
  },
  {
   "cell_type": "code",
   "execution_count": 2,
   "id": "efb75ffb-d709-42b2-b04f-f8c75c52d239",
   "metadata": {},
   "outputs": [
    {
     "ename": "NameError",
     "evalue": "name 'grey' is not defined",
     "output_type": "error",
     "traceback": [
      "\u001b[1;31m---------------------------------------------------------------------------\u001b[0m",
      "\u001b[1;31mNameError\u001b[0m                                 Traceback (most recent call last)",
      "Input \u001b[1;32mIn [2]\u001b[0m, in \u001b[0;36m<cell line: 1>\u001b[1;34m()\u001b[0m\n\u001b[1;32m----> 1\u001b[0m plt\u001b[38;5;241m.\u001b[39mimshow(\u001b[43mgrey\u001b[49m)\n\u001b[0;32m      2\u001b[0m plt\u001b[38;5;241m.\u001b[39mshow()\n",
      "\u001b[1;31mNameError\u001b[0m: name 'grey' is not defined"
     ]
    }
   ],
   "source": [
    "plt.imshow(grey)\n",
    "plt.show()"
   ]
  },
  {
   "cell_type": "code",
   "execution_count": null,
   "id": "2e445645-7243-4b42-9aa7-b981853f5f65",
   "metadata": {},
   "outputs": [],
   "source": [
    "a."
   ]
  }
 ],
 "metadata": {
  "kernelspec": {
   "display_name": "Python 3 (ipykernel)",
   "language": "python",
   "name": "python3"
  },
  "language_info": {
   "codemirror_mode": {
    "name": "ipython",
    "version": 3
   },
   "file_extension": ".py",
   "mimetype": "text/x-python",
   "name": "python",
   "nbconvert_exporter": "python",
   "pygments_lexer": "ipython3",
   "version": "3.8.10"
  }
 },
 "nbformat": 4,
 "nbformat_minor": 5
}

{
 "cells": [
  {
   "cell_type": "code",
   "execution_count": 1,
   "id": "cb9e9623-0817-4dad-a264-f0bc1caa58ad",
   "metadata": {},
   "outputs": [],
   "source": [
    "import numpy as np"
   ]
  },
  {
   "cell_type": "code",
   "execution_count": 2,
   "id": "6980fd28-c247-48da-898e-216fe2e0cfa3",
   "metadata": {},
   "outputs": [],
   "source": [
    "array = np.array([1,23,4])"
   ]
  },
  {
   "cell_type": "code",
   "execution_count": 4,
   "id": "a220a7cf-dc2c-454e-adfc-38aebc11c8ac",
   "metadata": {},
   "outputs": [
    {
     "name": "stdout",
     "output_type": "stream",
     "text": [
      "1\n",
      "23\n",
      "4\n"
     ]
    }
   ],
   "source": [
    "for i in array:\n",
    "    print(i)"
   ]
  },
  {
   "cell_type": "code",
   "execution_count": null,
   "id": "89e85d24-4516-4915-8365-f0c933591a51",
   "metadata": {},
   "outputs": [],
   "source": []
  }
 ],
 "metadata": {
  "kernelspec": {
   "display_name": "Python 3 (ipykernel)",
   "language": "python",
   "name": "python3"
  },
  "language_info": {
   "codemirror_mode": {
    "name": "ipython",
    "version": 3
   },
   "file_extension": ".py",
   "mimetype": "text/x-python",
   "name": "python",
   "nbconvert_exporter": "python",
   "pygments_lexer": "ipython3",
   "version": "3.8.10"
  }
 },
 "nbformat": 4,
 "nbformat_minor": 5
}

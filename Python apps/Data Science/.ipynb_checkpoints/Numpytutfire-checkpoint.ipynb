{
 "cells": [
  {
   "cell_type": "code",
   "execution_count": 1,
   "id": "90c0d6ef-3556-4c5f-8337-267ce6f064c6",
   "metadata": {},
   "outputs": [],
   "source": [
    "import numpy as np"
   ]
  },
  {
   "cell_type": "code",
   "execution_count": 2,
   "id": "f5c5c8d7-f578-4c0a-9824-0064595ab143",
   "metadata": {},
   "outputs": [],
   "source": [
    "array1 = np.array([[2,3,4,5], [2,3,45,6]], dtype='int64')"
   ]
  },
  {
   "cell_type": "code",
   "execution_count": 3,
   "id": "b3e256e4-5666-406f-8bd7-4225bfb264ff",
   "metadata": {},
   "outputs": [
    {
     "name": "stdout",
     "output_type": "stream",
     "text": [
      "[[ 2  3  4  5]\n",
      " [ 2  3 45  6]]\n"
     ]
    }
   ],
   "source": [
    "print(array1)\n"
   ]
  },
  {
   "cell_type": "code",
   "execution_count": 4,
   "id": "e0d2ae1c-59e3-4c8f-8603-d992482ed7fb",
   "metadata": {},
   "outputs": [
    {
     "data": {
      "text/plain": [
       "dtype('int64')"
      ]
     },
     "execution_count": 4,
     "metadata": {},
     "output_type": "execute_result"
    }
   ],
   "source": [
    "array1.dtype"
   ]
  },
  {
   "cell_type": "code",
   "execution_count": 5,
   "id": "cbbeb37a-a195-4194-b368-0223ce3f8e45",
   "metadata": {},
   "outputs": [
    {
     "data": {
      "text/plain": [
       "(2, 4)"
      ]
     },
     "execution_count": 5,
     "metadata": {},
     "output_type": "execute_result"
    }
   ],
   "source": [
    "array1.shape"
   ]
  },
  {
   "cell_type": "code",
   "execution_count": 6,
   "id": "1b896459-dd5c-470f-b8a9-aafde2b78be7",
   "metadata": {},
   "outputs": [
    {
     "data": {
      "text/plain": [
       "array([[0., 0., 0., 0., 0., 0.],\n",
       "       [0., 0., 0., 0., 0., 0.],\n",
       "       [0., 0., 0., 0., 0., 0.],\n",
       "       [0., 0., 0., 0., 0., 0.]])"
      ]
     },
     "execution_count": 6,
     "metadata": {},
     "output_type": "execute_result"
    }
   ],
   "source": [
    "np.zeros((4,6))"
   ]
  },
  {
   "cell_type": "code",
   "execution_count": 7,
   "id": "e9e62239-2a8c-4f5f-ad03-15af78e8d974",
   "metadata": {},
   "outputs": [
    {
     "data": {
      "text/plain": [
       "dtype('float64')"
      ]
     },
     "execution_count": 7,
     "metadata": {},
     "output_type": "execute_result"
    }
   ],
   "source": [
    "np.ones((4,6)).dtype"
   ]
  },
  {
   "cell_type": "code",
   "execution_count": 8,
   "id": "d964b837-2912-458b-bb31-9fa75b1871cb",
   "metadata": {},
   "outputs": [
    {
     "data": {
      "text/plain": [
       "array([[0., 0., 0., 0., 0.],\n",
       "       [0., 0., 0., 0., 0.],\n",
       "       [0., 0., 0., 0., 0.]])"
      ]
     },
     "execution_count": 8,
     "metadata": {},
     "output_type": "execute_result"
    }
   ],
   "source": [
    "np.empty((3,5))"
   ]
  },
  {
   "cell_type": "code",
   "execution_count": 9,
   "id": "6c7d0227-d378-470c-b06b-efd9a72174e5",
   "metadata": {},
   "outputs": [
    {
     "data": {
      "text/plain": [
       "array([[0.5       , 0.33333333, 0.25      , 0.2       ],\n",
       "       [0.5       , 0.33333333, 0.02222222, 0.16666667]])"
      ]
     },
     "execution_count": 9,
     "metadata": {},
     "output_type": "execute_result"
    }
   ],
   "source": [
    "1/array1"
   ]
  },
  {
   "cell_type": "code",
   "execution_count": 10,
   "id": "decfd4b2-370a-468a-bc0a-e40a2bf1b992",
   "metadata": {},
   "outputs": [],
   "source": [
    "array2 = np.array([2,24,5,6,7])"
   ]
  },
  {
   "cell_type": "code",
   "execution_count": 11,
   "id": "cd499c95-e541-432f-a139-f3f542eaca40",
   "metadata": {},
   "outputs": [],
   "source": [
    "arr = array2[0:3].copy()"
   ]
  },
  {
   "cell_type": "code",
   "execution_count": 12,
   "id": "9cbe801e-009b-4855-9ea6-608bfc763be5",
   "metadata": {},
   "outputs": [
    {
     "data": {
      "text/plain": [
       "array([ 2, 24,  5])"
      ]
     },
     "execution_count": 12,
     "metadata": {},
     "output_type": "execute_result"
    }
   ],
   "source": [
    "arr"
   ]
  },
  {
   "cell_type": "code",
   "execution_count": 13,
   "id": "87cdc11c-8453-4bd8-9e11-9227320f4e02",
   "metadata": {},
   "outputs": [],
   "source": [
    "arr[2] = 3 "
   ]
  },
  {
   "cell_type": "code",
   "execution_count": 14,
   "id": "c16e6b01-01bd-490f-abe2-ac27f97b16ea",
   "metadata": {},
   "outputs": [
    {
     "data": {
      "text/plain": [
       "array([ 2, 24,  3])"
      ]
     },
     "execution_count": 14,
     "metadata": {},
     "output_type": "execute_result"
    }
   ],
   "source": [
    "arr"
   ]
  },
  {
   "cell_type": "code",
   "execution_count": 15,
   "id": "0e9bb22c-0773-460f-9d1e-b81bd6bee294",
   "metadata": {},
   "outputs": [
    {
     "data": {
      "text/plain": [
       "array([ 2, 24,  5,  6,  7])"
      ]
     },
     "execution_count": 15,
     "metadata": {},
     "output_type": "execute_result"
    }
   ],
   "source": [
    "array2"
   ]
  },
  {
   "cell_type": "code",
   "execution_count": 17,
   "id": "5cfac47a-39eb-4687-a654-b7b63afdc74f",
   "metadata": {},
   "outputs": [
    {
     "data": {
      "text/plain": [
       "array([[ 2,  3,  4,  5],\n",
       "       [ 2,  3, 45,  6]], dtype=int64)"
      ]
     },
     "execution_count": 17,
     "metadata": {},
     "output_type": "execute_result"
    }
   ],
   "source": [
    "array1"
   ]
  },
  {
   "cell_type": "code",
   "execution_count": 18,
   "id": "ed0b5989-157e-454e-80e8-2654a3614d2c",
   "metadata": {},
   "outputs": [
    {
     "data": {
      "text/plain": [
       "4"
      ]
     },
     "execution_count": 18,
     "metadata": {},
     "output_type": "execute_result"
    }
   ],
   "source": [
    "array1[0,2]"
   ]
  },
  {
   "cell_type": "code",
   "execution_count": null,
   "id": "42e38ee4-cd51-4edd-8518-424bdb4919b7",
   "metadata": {},
   "outputs": [],
   "source": []
  }
 ],
 "metadata": {
  "kernelspec": {
   "display_name": "Python 3 (ipykernel)",
   "language": "python",
   "name": "python3"
  },
  "language_info": {
   "codemirror_mode": {
    "name": "ipython",
    "version": 3
   },
   "file_extension": ".py",
   "mimetype": "text/x-python",
   "name": "python",
   "nbconvert_exporter": "python",
   "pygments_lexer": "ipython3",
   "version": "3.8.10"
  }
 },
 "nbformat": 4,
 "nbformat_minor": 5
}
